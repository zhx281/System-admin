{
  "nbformat": 4,
  "nbformat_minor": 0,
  "metadata": {
    "colab": {
      "name": "Bash_Commands_on_linux.ipynb",
      "version": "0.3.2",
      "provenance": []
    },
    "kernelspec": {
      "name": "python3",
      "display_name": "Python 3"
    }
  },
  "cells": [
    {
      "cell_type": "markdown",
      "metadata": {
        "id": "OQd743UwAxnT",
        "colab_type": "text"
      },
      "source": [
        "# Prefix\n",
        "In this notebook I am going to demonstrate the usage of some basic Bash commands, and keep a record on what I have learned over time. I am using the google colab notebook, because it is free, and it can run all the bash command with `!` or `%` in front of it."
      ]
    },
    {
      "cell_type": "markdown",
      "metadata": {
        "id": "kwnf7WHqOqTT",
        "colab_type": "text"
      },
      "source": [
        "### Listing "
      ]
    },
    {
      "cell_type": "code",
      "metadata": {
        "id": "SGzXFWpAArB-",
        "colab_type": "code",
        "colab": {
          "base_uri": "https://localhost:8080/",
          "height": 34
        },
        "outputId": "af489bc3-179a-461f-c472-612c3d31659a"
      },
      "source": [
        "# list the files and directories within the current working directoy\n",
        "! ls  "
      ],
      "execution_count": 1,
      "outputs": [
        {
          "output_type": "stream",
          "text": [
            "sample_data\n"
          ],
          "name": "stdout"
        }
      ]
    },
    {
      "cell_type": "code",
      "metadata": {
        "id": "viIkGaF5BLxP",
        "colab_type": "code",
        "colab": {
          "base_uri": "https://localhost:8080/",
          "height": 34
        },
        "outputId": "29bc0332-2596-41d5-9fbf-89ea9a3ccacd"
      },
      "source": [
        "# listing all files and directories including hidden files and directories\n",
        "! ls -a"
      ],
      "execution_count": 2,
      "outputs": [
        {
          "output_type": "stream",
          "text": [
            ".  ..  .config\tsample_data\n"
          ],
          "name": "stdout"
        }
      ]
    },
    {
      "cell_type": "code",
      "metadata": {
        "id": "R45PF6HNEOlT",
        "colab_type": "code",
        "colab": {
          "base_uri": "https://localhost:8080/",
          "height": 102
        },
        "outputId": "ffd9c33c-ca12-4dd4-9bdd-29331b40e7db"
      },
      "source": [
        "# listing all files and directories with their permissions\n",
        "! ls -la"
      ],
      "execution_count": 3,
      "outputs": [
        {
          "output_type": "stream",
          "text": [
            "total 16\n",
            "drwxr-xr-x 1 root root 4096 May 31 16:17 .\n",
            "drwxr-xr-x 1 root root 4096 Jun 17 15:30 ..\n",
            "drwxr-xr-x 1 root root 4096 Jun 12 16:04 .config\n",
            "drwxr-xr-x 1 root root 4096 May 31 16:17 sample_data\n"
          ],
          "name": "stdout"
        }
      ]
    },
    {
      "cell_type": "markdown",
      "metadata": {
        "id": "ZYQkWbF2OvFn",
        "colab_type": "text"
      },
      "source": [
        "### Changing Permission"
      ]
    },
    {
      "cell_type": "code",
      "metadata": {
        "id": "tYvqtrEODU5t",
        "colab_type": "code",
        "colab": {
          "base_uri": "https://localhost:8080/",
          "height": 34
        },
        "outputId": "279845bf-aff0-4d23-951a-78ccb63217b6"
      },
      "source": [
        "# create a directory call myscpecialdir\n",
        "! mkdir myspecialdir\n",
        "! ls"
      ],
      "execution_count": 4,
      "outputs": [
        {
          "output_type": "stream",
          "text": [
            "myspecialdir  sample_data\n"
          ],
          "name": "stdout"
        }
      ]
    },
    {
      "cell_type": "code",
      "metadata": {
        "id": "I9tBVEddBY-B",
        "colab_type": "code",
        "colab": {
          "base_uri": "https://localhost:8080/",
          "height": 119
        },
        "outputId": "d535725d-834c-4f4e-8c6e-5542d7481550"
      },
      "source": [
        "# changing the permissions of the myspecialdir to only accessible by the current user\n",
        "# for each --- for chmod command represent user, group, and everyone\n",
        "# 4 for read, 2 for excute, and 1 for write\n",
        "! chmod 700 myspecialdir\n",
        "! ls -la"
      ],
      "execution_count": 5,
      "outputs": [
        {
          "output_type": "stream",
          "text": [
            "total 20\n",
            "drwxr-xr-x 1 root root 4096 Jun 17 15:33 .\n",
            "drwxr-xr-x 1 root root 4096 Jun 17 15:30 ..\n",
            "drwxr-xr-x 1 root root 4096 Jun 12 16:04 .config\n",
            "drwx------ 2 root root 4096 Jun 17 15:33 myspecialdir\n",
            "drwxr-xr-x 1 root root 4096 May 31 16:17 sample_data\n"
          ],
          "name": "stdout"
        }
      ]
    },
    {
      "cell_type": "markdown",
      "metadata": {
        "id": "Y51a3gCwO0zs",
        "colab_type": "text"
      },
      "source": [
        "### Change Directory"
      ]
    },
    {
      "cell_type": "markdown",
      "metadata": {
        "id": "Nz9jSNc0JELH",
        "colab_type": "text"
      },
      "source": [
        "As you can see that the permission of the myspecialdir have changed"
      ]
    },
    {
      "cell_type": "code",
      "metadata": {
        "id": "ZxYPsCJyE28U",
        "colab_type": "code",
        "colab": {
          "base_uri": "https://localhost:8080/",
          "height": 51
        },
        "outputId": "9f9e440e-8906-4d02-802c-cd51c8615230"
      },
      "source": [
        "# using the cd command to change directory\n",
        "% cd myspecialdir\n",
        "! pwd"
      ],
      "execution_count": 6,
      "outputs": [
        {
          "output_type": "stream",
          "text": [
            "/content/myspecialdir\n",
            "/content/myspecialdir\n"
          ],
          "name": "stdout"
        }
      ]
    },
    {
      "cell_type": "markdown",
      "metadata": {
        "id": "GFMRTGKqO6C9",
        "colab_type": "text"
      },
      "source": [
        "### Text File Editing "
      ]
    },
    {
      "cell_type": "code",
      "metadata": {
        "id": "mi1M-wPCMol1",
        "colab_type": "code",
        "colab": {
          "base_uri": "https://localhost:8080/",
          "height": 34
        },
        "outputId": "b8e7a7be-a978-4def-e62e-d541893afa20"
      },
      "source": [
        "# creating a empty text file inside the myspecialdir\n",
        "! echo 'This is a empty text file.' > empty.txt\n",
        "! ls"
      ],
      "execution_count": 10,
      "outputs": [
        {
          "output_type": "stream",
          "text": [
            "empty.txt\n"
          ],
          "name": "stdout"
        }
      ]
    },
    {
      "cell_type": "code",
      "metadata": {
        "id": "unAKv73qM8SA",
        "colab_type": "code",
        "colab": {
          "base_uri": "https://localhost:8080/",
          "height": 34
        },
        "outputId": "7c13af8c-9f92-4231-80c8-bd8ba6a56a61"
      },
      "source": [
        "# displaying the content inthe empty.txt\n",
        "! cat empty.txt"
      ],
      "execution_count": 12,
      "outputs": [
        {
          "output_type": "stream",
          "text": [
            "This is a empty text file.\n"
          ],
          "name": "stdout"
        }
      ]
    },
    {
      "cell_type": "code",
      "metadata": {
        "id": "S6rRFWC3Nd87",
        "colab_type": "code",
        "colab": {
          "base_uri": "https://localhost:8080/",
          "height": 34
        },
        "outputId": "88587749-e274-4631-a027-55dc9aa344ef"
      },
      "source": [
        "# changing the text in empty.txt to 'Added text.'\n",
        "! echo 'Added text.' > empty.txt\n",
        "! cat empty.txt"
      ],
      "execution_count": 15,
      "outputs": [
        {
          "output_type": "stream",
          "text": [
            "Added text.\n"
          ],
          "name": "stdout"
        }
      ]
    },
    {
      "cell_type": "code",
      "metadata": {
        "id": "bkoF0XJhNum2",
        "colab_type": "code",
        "colab": {
          "base_uri": "https://localhost:8080/",
          "height": 51
        },
        "outputId": "aa3cc09b-d723-4018-e94b-952202f1cddd"
      },
      "source": [
        "# appending text to the empty.txt\n",
        "! echo 'Appending text.' >> empty.txt\n",
        "! cat empty.txt"
      ],
      "execution_count": 16,
      "outputs": [
        {
          "output_type": "stream",
          "text": [
            "Added text.\n",
            "Appending text.\n"
          ],
          "name": "stdout"
        }
      ]
    },
    {
      "cell_type": "markdown",
      "metadata": {
        "id": "AIm-s58rP5oy",
        "colab_type": "text"
      },
      "source": [
        "### Looking at Logs"
      ]
    },
    {
      "cell_type": "code",
      "metadata": {
        "id": "SNQT__l9NyS3",
        "colab_type": "code",
        "colab": {
          "base_uri": "https://localhost:8080/",
          "height": 102
        },
        "outputId": "fbce22f4-32b2-4d91-d459-da53b0932373"
      },
      "source": [
        "# move to the /var/log direcotry and list the files\n",
        "% cd\n",
        "% cd /var/log\n",
        "! ls"
      ],
      "execution_count": 21,
      "outputs": [
        {
          "output_type": "stream",
          "text": [
            "/root\n",
            "/var/log\n",
            "alternatives.log  btmp\t\t     faillog\t     lastlog   wtmp\n",
            "apt\t\t  colab-jupyter.log  fontconfig.log  pip.log\n",
            "bootstrap.log\t  dpkg.log\t     journal\t     tallylog\n"
          ],
          "name": "stdout"
        }
      ]
    },
    {
      "cell_type": "code",
      "metadata": {
        "id": "VGNeYivGQD2W",
        "colab_type": "code",
        "colab": {
          "base_uri": "https://localhost:8080/",
          "height": 3403
        },
        "outputId": "ecedb59b-de39-4510-ed9e-4c974cc0c6fe"
      },
      "source": [
        "! cat alternatives.log"
      ],
      "execution_count": 23,
      "outputs": [
        {
          "output_type": "stream",
          "text": [
            "update-alternatives 2019-05-15 14:06:36: run with --quiet --install /usr/bin/awk awk /usr/bin/mawk 5 --slave /usr/share/man/man1/awk.1.gz awk.1.gz /usr/share/man/man1/mawk.1.gz --slave /usr/bin/nawk nawk /usr/bin/mawk --slave /usr/share/man/man1/nawk.1.gz nawk.1.gz /usr/share/man/man1/mawk.1.gz\n",
            "update-alternatives 2019-05-15 14:06:36: link group awk updated to point to /usr/bin/mawk\n",
            "update-alternatives 2019-05-15 14:06:40: run with --quiet --install /usr/bin/awk awk /usr/bin/mawk 5 --slave /usr/share/man/man1/awk.1.gz awk.1.gz /usr/share/man/man1/mawk.1.gz --slave /usr/bin/nawk nawk /usr/bin/mawk --slave /usr/share/man/man1/nawk.1.gz nawk.1.gz /usr/share/man/man1/mawk.1.gz\n",
            "update-alternatives 2019-05-15 14:06:40: run with --install /usr/share/man/man7/builtins.7.gz builtins.7.gz /usr/share/man/man7/bash-builtins.7.gz 10\n",
            "update-alternatives 2019-05-15 14:06:40: link group builtins.7.gz updated to point to /usr/share/man/man7/bash-builtins.7.gz\n",
            "update-alternatives 2019-05-15 14:06:40: run with --install /usr/sbin/rmt rmt /usr/sbin/rmt-tar 50 --slave /usr/share/man/man8/rmt.8.gz rmt.8.gz /usr/share/man/man8/rmt-tar.8.gz\n",
            "update-alternatives 2019-05-15 14:06:40: link group rmt updated to point to /usr/sbin/rmt-tar\n",
            "update-alternatives 2019-05-15 14:06:40: run with --install /usr/bin/pager pager /bin/more 50 --slave /usr/share/man/man1/pager.1.gz pager.1.gz /usr/share/man/man1/more.1.gz\n",
            "update-alternatives 2019-05-15 14:06:40: link group pager updated to point to /bin/more\n",
            "update-alternatives 2019-05-15 14:06:40: run with --remove pager /usr/bin/pg\n",
            "update-alternatives 2019-05-15 14:06:41: run with --install /usr/bin/w w /usr/bin/w.procps 50 --slave /usr/share/man/man1/w.1.gz w.1.gz /usr/share/man/man1/w.procps.1.gz\n",
            "update-alternatives 2019-05-15 14:06:41: link group w updated to point to /usr/bin/w.procps\n",
            "update-alternatives 2019-05-15 14:06:47: run with --quiet --install /usr/bin/awk awk /usr/bin/mawk 5 --slave /usr/share/man/man1/awk.1.gz awk.1.gz /usr/share/man/man1/mawk.1.gz --slave /usr/bin/nawk nawk /usr/bin/mawk --slave /usr/share/man/man1/nawk.1.gz nawk.1.gz /usr/share/man/man1/mawk.1.gz\n",
            "update-alternatives 2019-05-15 14:06:47: auto-repair link group awk\n",
            "update-alternatives 2019-05-15 14:06:48: run with --remove builtins.7.gz /usr/share/man/man7/bash-builtins.7.gz\n",
            "update-alternatives 2019-05-15 14:06:48: link group builtins.7.gz fully removed\n",
            "update-alternatives 2019-05-15 14:06:53: run with --install /usr/sbin/rmt rmt /usr/sbin/rmt-tar 50 --slave /usr/share/man/man8/rmt.8.gz rmt.8.gz /usr/share/man/man8/rmt-tar.8.gz\n",
            "update-alternatives 2019-05-15 14:06:53: auto-repair link group rmt\n",
            "update-alternatives 2019-05-15 14:07:03: run with --install /usr/bin/pager pager /bin/more 50 --slave /usr/share/man/man1/pager.1.gz pager.1.gz /usr/share/man/man1/more.1.gz\n",
            "update-alternatives 2019-05-15 14:07:03: auto-repair link group pager\n",
            "update-alternatives 2019-05-15 14:07:03: run with --remove pager /usr/bin/pg\n",
            "update-alternatives 2019-05-15 14:07:11: run with --install /usr/bin/w w /usr/bin/w.procps 50 --slave /usr/share/man/man1/w.1.gz w.1.gz /usr/share/man/man1/w.procps.1.gz\n",
            "update-alternatives 2019-05-15 14:07:11: auto-repair link group w\n",
            "update-alternatives 2019-05-15 14:07:15: run with --install /usr/sbin/rmt rmt /usr/sbin/rmt-tar 50 --slave /usr/share/man/man8/rmt.8.gz rmt.8.gz /usr/share/man/man8/rmt-tar.8.gz\n",
            "update-alternatives 2019-05-15 14:07:16: run with --install /usr/bin/pager pager /bin/more 50 --slave /usr/share/man/man1/pager.1.gz pager.1.gz /usr/share/man/man1/more.1.gz\n",
            "update-alternatives 2019-05-15 14:07:16: run with --remove pager /usr/bin/pg\n",
            "update-alternatives 2019-05-15 14:07:19: run with --install /usr/bin/w w /usr/bin/w.procps 50 --slave /usr/share/man/man1/w.1.gz w.1.gz /usr/share/man/man1/w.procps.1.gz\n",
            "update-alternatives 2019-05-31 03:38:06: run with --quiet --install /usr/bin/pinentry pinentry /usr/bin/pinentry-curses 50 --slave /usr/share/man/man1/pinentry.1.gz pinentry.1.gz /usr/share/man/man1/pinentry-curses.1.gz\n",
            "update-alternatives 2019-05-31 03:38:06: link group pinentry updated to point to /usr/bin/pinentry-curses\n",
            "update-alternatives 2019-05-31 03:47:17: run with --install /usr/bin/lzma lzma /usr/bin/xz 20 --slave /usr/share/man/man1/lzma.1.gz lzma.1.gz /usr/share/man/man1/xz.1.gz --slave /usr/bin/unlzma unlzma /usr/bin/unxz --slave /usr/share/man/man1/unlzma.1.gz unlzma.1.gz /usr/share/man/man1/unxz.1.gz --slave /usr/bin/lzcat lzcat /usr/bin/xzcat --slave /usr/share/man/man1/lzcat.1.gz lzcat.1.gz /usr/share/man/man1/xzcat.1.gz --slave /usr/bin/lzmore lzmore /usr/bin/xzmore --slave /usr/share/man/man1/lzmore.1.gz lzmore.1.gz /usr/share/man/man1/xzmore.1.gz --slave /usr/bin/lzless lzless /usr/bin/xzless --slave /usr/share/man/man1/lzless.1.gz lzless.1.gz /usr/share/man/man1/xzless.1.gz --slave /usr/bin/lzdiff lzdiff /usr/bin/xzdiff --slave /usr/share/man/man1/lzdiff.1.gz lzdiff.1.gz /usr/share/man/man1/xzdiff.1.gz --slave /usr/bin/lzcmp lzcmp /usr/bin/xzcmp --slave /usr/share/man/man1/lzcmp.1.gz lzcmp.1.gz /usr/share/man/man1/xzcmp.1.gz --slave /usr/bin/lzgrep lzgrep /usr/bin/xzgrep --slave /usr/share/man/man1/lzgrep.1.gz lzgrep.1.gz /usr/share/man/man1/xzgrep.1.gz --slave /usr/bin/lzegrep lzegrep /usr/bin/xzegrep --slave /usr/share/man/man1/lzegrep.1.gz lzegrep.1.gz /usr/share/man/man1/xzegrep.1.gz --slave /usr/bin/lzfgrep lzfgrep /usr/bin/xzfgrep --slave /usr/share/man/man1/lzfgrep.1.gz lzfgrep.1.gz /usr/share/man/man1/xzfgrep.1.gz\n",
            "update-alternatives 2019-05-31 03:47:17: link group lzma updated to point to /usr/bin/xz\n",
            "update-alternatives 2019-05-31 03:47:21: run with --quiet --install /lib/cpp cpp /usr/bin/cpp 10\n",
            "update-alternatives 2019-05-31 03:47:21: link group cpp updated to point to /usr/bin/cpp\n",
            "update-alternatives 2019-05-31 03:47:34: run with --quiet --install /usr/bin/cc cc /usr/bin/gcc 20 --slave /usr/share/man/man1/cc.1.gz cc.1.gz /usr/share/man/man1/gcc.1.gz\n",
            "update-alternatives 2019-05-31 03:47:34: link group cc updated to point to /usr/bin/gcc\n",
            "update-alternatives 2019-05-31 03:47:34: run with --quiet --install /usr/bin/c89 c89 /usr/bin/c89-gcc 20 --slave /usr/share/man/man1/c89.1.gz c89.1.gz /usr/share/man/man1/c89-gcc.1.gz\n",
            "update-alternatives 2019-05-31 03:47:34: link group c89 updated to point to /usr/bin/c89-gcc\n",
            "update-alternatives 2019-05-31 03:47:34: run with --quiet --install /usr/bin/c99 c99 /usr/bin/c99-gcc 20 --slave /usr/share/man/man1/c99.1.gz c99.1.gz /usr/share/man/man1/c99-gcc.1.gz\n",
            "update-alternatives 2019-05-31 03:47:34: link group c99 updated to point to /usr/bin/c99-gcc\n",
            "update-alternatives 2019-05-31 03:47:35: run with --install /usr/bin/c++ c++ /usr/bin/g++ 20 --slave /usr/share/man/man1/c++.1.gz c++.1.gz /usr/share/man/man1/g++.1.gz\n",
            "update-alternatives 2019-05-31 03:47:35: link group c++ updated to point to /usr/bin/g++\n",
            "update-alternatives 2019-05-31 03:58:03: run with --force --install /usr/include/cudnn.h libcudnn /usr/include/x86_64-linux-gnu/cudnn_v7.h 70 --slave /usr/lib/x86_64-linux-gnu/libcudnn.so libcudnn_so /usr/lib/x86_64-linux-gnu/libcudnn.so.7 --slave /usr/lib/x86_64-linux-gnu/libcudnn_static.a libcudnn_stlib /usr/lib/x86_64-linux-gnu/libcudnn_static_v7.a\n",
            "update-alternatives 2019-05-31 03:58:03: link group libcudnn updated to point to /usr/include/x86_64-linux-gnu/cudnn_v7.h\n",
            "update-alternatives 2019-05-31 03:58:03: run with --set libcudnn /usr/include/x86_64-linux-gnu/cudnn_v7.h\n",
            "update-alternatives 2019-05-31 03:58:03: status of link group /usr/include/cudnn.h set to manual\n",
            "update-alternatives 2019-05-31 16:07:07: run with --quiet --install /usr/bin/pager pager /bin/less 77 --slave /usr/share/man/man1/pager.1.gz pager.1.gz /usr/share/man/man1/less.1.gz\n",
            "update-alternatives 2019-05-31 16:07:07: link group pager updated to point to /bin/less\n",
            "update-alternatives 2019-05-31 16:07:07: run with --quiet --remove pager /usr/bin/less\n",
            "update-alternatives 2019-05-31 16:07:07: run with --quiet --install /usr/bin/pager pager /bin/less 77 --slave /usr/share/man/man1/pager.1.gz pager.1.gz /usr/share/man/man1/less.1.gz\n",
            "update-alternatives 2019-05-31 16:07:07: run with --quiet --remove pager /usr/bin/less\n",
            "update-alternatives 2019-05-31 16:07:07: run with --install /usr/bin/rename rename /usr/bin/file-rename 70 --slave /usr/share/man/man1/rename.1.gz rename.1.gz /usr/share/man/man1/file-rename.1p.gz\n",
            "update-alternatives 2019-05-31 16:07:07: link group rename updated to point to /usr/bin/file-rename\n",
            "update-alternatives 2019-05-31 16:07:08: run with --install /usr/bin/write write /usr/bin/bsd-write 100 --slave /usr/share/man/man1/write.1.gz write.1.gz /usr/share/man/man1/bsd-write.1.gz\n",
            "update-alternatives 2019-05-31 16:07:08: link group write updated to point to /usr/bin/bsd-write\n",
            "update-alternatives 2019-05-31 16:07:08: run with --install /usr/bin/from from /usr/bin/bsd-from 10 --slave /usr/share/man/man1/from.1.gz from.1.gz /usr/share/man/man1/bsd-from.1.gz\n",
            "update-alternatives 2019-05-31 16:07:08: link group from updated to point to /usr/bin/bsd-from\n",
            "update-alternatives 2019-05-31 16:07:10: run with --install /usr/bin/f95 f95 /usr/bin/gfortran 20 --slave /usr/share/man/man1/f95.1.gz f95.1.gz /usr/share/man/man1/gfortran.1.gz\n",
            "update-alternatives 2019-05-31 16:07:10: link group f95 updated to point to /usr/bin/gfortran\n",
            "update-alternatives 2019-05-31 16:07:10: run with --install /usr/bin/f77 f77 /usr/bin/gfortran 20 --slave /usr/share/man/man1/f77.1.gz f77.1.gz /usr/share/man/man1/gfortran.1.gz\n",
            "update-alternatives 2019-05-31 16:07:10: link group f77 updated to point to /usr/bin/gfortran\n",
            "update-alternatives 2019-05-31 16:07:10: run with --install /usr/lib/x86_64-linux-gnu/libblas.so.3 libblas.so.3-x86_64-linux-gnu /usr/lib/x86_64-linux-gnu/atlas/libblas.so.3 35\n",
            "update-alternatives 2019-05-31 16:07:10: link group libblas.so.3-x86_64-linux-gnu updated to point to /usr/lib/x86_64-linux-gnu/atlas/libblas.so.3\n",
            "update-alternatives 2019-05-31 16:07:10: run with --install /usr/lib/x86_64-linux-gnu/liblapack.so.3 liblapack.so.3-x86_64-linux-gnu /usr/lib/x86_64-linux-gnu/atlas/liblapack.so.3 35\n",
            "update-alternatives 2019-05-31 16:07:10: link group liblapack.so.3-x86_64-linux-gnu updated to point to /usr/lib/x86_64-linux-gnu/atlas/liblapack.so.3\n",
            "update-alternatives 2019-05-31 16:07:10: run with --install /usr/lib/x86_64-linux-gnu/liblapack.so.3 liblapack.so.3-x86_64-linux-gnu /usr/lib/x86_64-linux-gnu/lapack/liblapack.so.3 10\n",
            "update-alternatives 2019-05-31 16:07:11: run with --install /usr/lib/x86_64-linux-gnu/libblas.so libblas.so-x86_64-linux-gnu /usr/lib/x86_64-linux-gnu/atlas/libblas.so 35 --slave /usr/lib/x86_64-linux-gnu/libblas.a libblas.a-x86_64-linux-gnu /usr/lib/x86_64-linux-gnu/atlas/libblas.a --slave /usr/include/x86_64-linux-gnu/cblas.h cblas.h-x86_64-linux-gnu /usr/include/x86_64-linux-gnu/cblas-atlas.h --slave /usr/lib/x86_64-linux-gnu/pkgconfig/blas.pc blas.pc-x86_64-linux-gnu /usr/lib/x86_64-linux-gnu/pkgconfig/blas-atlas.pc\n",
            "update-alternatives 2019-05-31 16:07:11: link group libblas.so-x86_64-linux-gnu updated to point to /usr/lib/x86_64-linux-gnu/atlas/libblas.so\n",
            "update-alternatives 2019-05-31 16:07:11: run with --install /usr/lib/x86_64-linux-gnu/liblapack.so liblapack.so-x86_64-linux-gnu /usr/lib/x86_64-linux-gnu/atlas/liblapack.so 35 --slave /usr/lib/x86_64-linux-gnu/liblapack.a liblapack.a-x86_64-linux-gnu /usr/lib/x86_64-linux-gnu/atlas/liblapack.a --slave /usr/lib/x86_64-linux-gnu/pkgconfig/lapack.pc lapack.pc-x86_64-linux-gnu /usr/lib/x86_64-linux-gnu/pkgconfig/lapack-atlas.pc\n",
            "update-alternatives 2019-05-31 16:07:11: link group liblapack.so-x86_64-linux-gnu updated to point to /usr/lib/x86_64-linux-gnu/atlas/liblapack.so\n",
            "update-alternatives 2019-05-31 16:07:23: run with --install /usr/lib/x86_64-linux-gnu/liblapack.so liblapack.so-x86_64-linux-gnu /usr/lib/x86_64-linux-gnu/lapack/liblapack.so 20 --slave /usr/lib/x86_64-linux-gnu/liblapack.a liblapack.a-x86_64-linux-gnu /usr/lib/x86_64-linux-gnu/lapack/liblapack.a --slave /usr/lib/x86_64-linux-gnu/pkgconfig/lapack.pc lapack.pc-x86_64-linux-gnu /usr/lib/x86_64-linux-gnu/pkgconfig/lapack-netlib.pc\n",
            "update-alternatives 2019-05-31 16:07:23: run with --install /usr/lib/x86_64-linux-gnu/pkgconfig/hdf5.pc hdf5.pc /usr/lib/x86_64-linux-gnu/pkgconfig/hdf5-serial.pc 50\n",
            "update-alternatives 2019-05-31 16:07:23: link group hdf5.pc updated to point to /usr/lib/x86_64-linux-gnu/pkgconfig/hdf5-serial.pc\n",
            "update-alternatives 2019-05-31 16:07:23: run with --quiet --install /usr/bin/rsh rsh /usr/bin/ssh 20 --slave /usr/share/man/man1/rsh.1.gz rsh.1.gz /usr/share/man/man1/ssh.1.gz\n",
            "update-alternatives 2019-05-31 16:07:23: link group rsh updated to point to /usr/bin/ssh\n",
            "update-alternatives 2019-05-31 16:07:23: run with --quiet --install /usr/bin/rlogin rlogin /usr/bin/slogin 20 --slave /usr/share/man/man1/rlogin.1.gz rlogin.1.gz /usr/share/man/man1/slogin.1.gz\n",
            "update-alternatives 2019-05-31 16:07:23: link group rlogin updated to point to /usr/bin/slogin\n",
            "update-alternatives 2019-05-31 16:07:23: run with --quiet --install /usr/bin/rcp rcp /usr/bin/scp 20 --slave /usr/share/man/man1/rcp.1.gz rcp.1.gz /usr/share/man/man1/scp.1.gz\n",
            "update-alternatives 2019-05-31 16:07:23: link group rcp updated to point to /usr/bin/scp\n",
            "update-alternatives 2019-05-31 16:07:25: run with --quiet --install /usr/bin/c++ c++ /usr/bin/clang++ 10\n",
            "update-alternatives 2019-05-31 16:07:25: run with --quiet --install /usr/bin/cc cc /usr/bin/clang 10\n",
            "update-alternatives 2019-05-31 16:07:25: run with --quiet --install /usr/bin/c89 c89 /usr/bin/clang 10\n",
            "update-alternatives 2019-05-31 16:07:25: run with --quiet --install /usr/bin/c99 c99 /usr/bin/clang 10\n",
            "update-alternatives 2019-05-31 16:10:20: run with --install /usr/bin/unrar unrar /usr/bin/unrar-nonfree 40 --slave /usr/share/man/man1/unrar.1.gz unrar.1.gz /usr/share/man/man1/unrar-nonfree.1.gz\n",
            "update-alternatives 2019-05-31 16:10:20: link group unrar updated to point to /usr/bin/unrar-nonfree\n",
            "update-alternatives 2019-05-31 16:10:22: run with --install /etc/mysql/my.cnf my.cnf /etc/mysql/my.cnf.fallback 100\n",
            "update-alternatives 2019-05-31 16:10:22: link group my.cnf updated to point to /etc/mysql/my.cnf.fallback\n",
            "update-alternatives 2019-05-31 16:10:24: run with --install /usr/lib/x86_64-linux-gnu/libpsm_infinipath.so.1 libpsm_infinipath.so.1 /usr/lib/libpsm1/libpsm_infinipath.so.1.16 40\n",
            "update-alternatives 2019-05-31 16:10:24: link group libpsm_infinipath.so.1 updated to point to /usr/lib/libpsm1/libpsm_infinipath.so.1.16\n",
            "update-alternatives 2019-05-31 16:10:45: run with --install /usr/lib/x86_64-linux-gnu/libblas.so.3 libblas.so.3-x86_64-linux-gnu /usr/lib/x86_64-linux-gnu/openblas/libblas.so.3 40\n",
            "update-alternatives 2019-05-31 16:10:45: link group libblas.so.3-x86_64-linux-gnu updated to point to /usr/lib/x86_64-linux-gnu/openblas/libblas.so.3\n",
            "update-alternatives 2019-05-31 16:10:45: run with --install /usr/lib/x86_64-linux-gnu/liblapack.so.3 liblapack.so.3-x86_64-linux-gnu /usr/lib/x86_64-linux-gnu/openblas/liblapack.so.3 40\n",
            "update-alternatives 2019-05-31 16:10:45: link group liblapack.so.3-x86_64-linux-gnu updated to point to /usr/lib/x86_64-linux-gnu/openblas/liblapack.so.3\n",
            "update-alternatives 2019-05-31 16:10:48: run with --install /usr/lib/x86_64-linux-gnu/libblas.so libblas.so-x86_64-linux-gnu /usr/lib/x86_64-linux-gnu/openblas/libblas.so 40 --slave /usr/lib/x86_64-linux-gnu/libblas.a libblas.a-x86_64-linux-gnu /usr/lib/x86_64-linux-gnu/openblas/libblas.a --slave /usr/include/x86_64-linux-gnu/cblas.h cblas.h-x86_64-linux-gnu /usr/include/x86_64-linux-gnu/cblas-openblas.h --slave /usr/lib/x86_64-linux-gnu/pkgconfig/blas.pc blas.pc-x86_64-linux-gnu /usr/lib/x86_64-linux-gnu/pkgconfig/blas-openblas.pc\n",
            "update-alternatives 2019-05-31 16:10:48: link group libblas.so-x86_64-linux-gnu updated to point to /usr/lib/x86_64-linux-gnu/openblas/libblas.so\n",
            "update-alternatives 2019-05-31 16:10:48: run with --install /usr/lib/x86_64-linux-gnu/liblapack.so liblapack.so-x86_64-linux-gnu /usr/lib/x86_64-linux-gnu/openblas/liblapack.so 40 --slave /usr/lib/x86_64-linux-gnu/liblapack.a liblapack.a-x86_64-linux-gnu /usr/lib/x86_64-linux-gnu/openblas/liblapack.a --slave /usr/lib/x86_64-linux-gnu/pkgconfig/lapack.pc lapack.pc-x86_64-linux-gnu /usr/lib/x86_64-linux-gnu/pkgconfig/lapack-openblas.pc\n",
            "update-alternatives 2019-05-31 16:10:48: link group liblapack.so-x86_64-linux-gnu updated to point to /usr/lib/x86_64-linux-gnu/openblas/liblapack.so\n",
            "update-alternatives 2019-05-31 16:10:49: run with --install /usr/include/mpi mpi /usr/lib/x86_64-linux-gnu/openmpi/include 50 --slave /usr/lib/x86_64-linux-gnu/libmpi.so libmpi.so /usr/lib/x86_64-linux-gnu/openmpi/lib/libmpi.so --slave /usr/lib/x86_64-linux-gnu/libmpi++.so libmpi++.so /usr/lib/x86_64-linux-gnu/openmpi/lib/libmpi_cxx.so --slave /usr/bin/mpicc mpicc /usr/bin/mpicc.openmpi --slave /usr/bin/mpic++ mpic++ /usr/bin/mpic++.openmpi --slave /usr/bin/mpicxx mpicxx /usr/bin/mpic++.openmpi --slave /usr/bin/mpiCC mpiCC /usr/bin/mpic++.openmpi --slave /usr/bin/mpif77 mpif77 /usr/bin/mpif77.openmpi --slave /usr/bin/mpif90 mpif90 /usr/bin/mpif90.openmpi --slave /usr/bin/mpifort mpifort /usr/bin/mpifort.openmpi --slave /usr/share/man/man1/mpicc.1.gz mpicc.1.gz /usr/share/man/man1/mpicc.openmpi.1.gz --slave /usr/share/man/man1/mpic++.1.gz mpic++.1.gz /usr/share/man/man1/mpic++.openmpi.1.gz --slave /usr/share/man/man1/mpicxx.1.gz mpicxx.1.gz /usr/share/man/man1/mpicxx.openmpi.1.gz --slave /usr/share/man/man1/mpiCC.1.gz mpiCC.1.gz /usr/share/man/man1/mpiCC.openmpi.1.gz --slave /usr/share/man/man1/mpif77.1.gz mpif77.1.gz /usr/share/man/man1/mpif77.openmpi.1.gz --slave /usr/share/man/man1/mpif90.1.gz mpif90.1.gz /usr/share/man/man1/mpif90.openmpi.1.gz --slave /usr/share/man/man1/mpifort.1.gz mpifort.1.gz /usr/share/man/man1/mpifort.openmpi.1.gz --slave /usr/lib/x86_64-linux-gnu/pkgconfig/mpi.pc mpi.pc /usr/lib/x86_64-linux-gnu/pkgconfig/ompi.pc --slave /usr/lib/x86_64-linux-gnu/pkgconfig/mpi-fort.pc mpi-fort.pc /usr/lib/x86_64-linux-gnu/pkgconfig/ompi-fort.pc --slave /usr/lib/x86_64-linux-gnu/pkgconfig/mpi-c.pc mpi-c.pc /usr/lib/x86_64-linux-gnu/pkgconfig/ompi-c.pc --slave /usr/lib/x86_64-linux-gnu/pkgconfig/mpi-cxx.pc mpi-cxx.pc /usr/lib/x86_64-linux-gnu/pkgconfig/ompi-cxx.pc\n",
            "update-alternatives 2019-05-31 16:10:49: link group mpi updated to point to /usr/lib/x86_64-linux-gnu/openmpi/include\n",
            "update-alternatives 2019-05-31 16:10:49: run with --install /usr/bin/mpirun mpirun /usr/bin/mpirun.openmpi 50 --slave /usr/share/man/man1/mpirun.1.gz mpirun.1.gz /usr/share/man/man1/mpirun.openmpi.1.gz --slave /usr/bin/mpiexec mpiexec /usr/bin/mpiexec.openmpi --slave /usr/share/man/man1/mpiexec.1.gz mpiexec.1.gz /usr/share/man/man1/mpiexec.openmpi.1.gz\n",
            "update-alternatives 2019-05-31 16:10:49: link group mpirun updated to point to /usr/bin/mpirun.openmpi\n",
            "update-alternatives 2019-05-31 16:10:50: run with --install /usr/bin/rmid rmid /usr/lib/jvm/java-8-openjdk-amd64/jre/bin/rmid 1081 --slave /usr/share/man/man1/rmid.1.gz rmid.1.gz /usr/lib/jvm/java-8-openjdk-amd64/jre/man/man1/rmid.1.gz\n",
            "update-alternatives 2019-05-31 16:10:50: link group rmid updated to point to /usr/lib/jvm/java-8-openjdk-amd64/jre/bin/rmid\n",
            "update-alternatives 2019-05-31 16:10:50: run with --install /usr/bin/clhsdb clhsdb /usr/lib/jvm/java-8-openjdk-amd64/jre/bin/clhsdb 1081\n",
            "update-alternatives 2019-05-31 16:10:50: link group clhsdb updated to point to /usr/lib/jvm/java-8-openjdk-amd64/jre/bin/clhsdb\n",
            "update-alternatives 2019-05-31 16:10:50: run with --install /usr/bin/java java /usr/lib/jvm/java-8-openjdk-amd64/jre/bin/java 1081 --slave /usr/share/man/man1/java.1.gz java.1.gz /usr/lib/jvm/java-8-openjdk-amd64/jre/man/man1/java.1.gz\n",
            "update-alternatives 2019-05-31 16:10:50: link group java updated to point to /usr/lib/jvm/java-8-openjdk-amd64/jre/bin/java\n",
            "update-alternatives 2019-05-31 16:10:50: run with --install /usr/bin/keytool keytool /usr/lib/jvm/java-8-openjdk-amd64/jre/bin/keytool 1081 --slave /usr/share/man/man1/keytool.1.gz keytool.1.gz /usr/lib/jvm/java-8-openjdk-amd64/jre/man/man1/keytool.1.gz\n",
            "update-alternatives 2019-05-31 16:10:50: link group keytool updated to point to /usr/lib/jvm/java-8-openjdk-amd64/jre/bin/keytool\n",
            "update-alternatives 2019-05-31 16:10:50: run with --install /usr/bin/hsdb hsdb /usr/lib/jvm/java-8-openjdk-amd64/jre/bin/hsdb 1081\n",
            "update-alternatives 2019-05-31 16:10:50: link group hsdb updated to point to /usr/lib/jvm/java-8-openjdk-amd64/jre/bin/hsdb\n",
            "update-alternatives 2019-05-31 16:10:50: run with --install /usr/bin/jjs jjs /usr/lib/jvm/java-8-openjdk-amd64/jre/bin/jjs 1081 --slave /usr/share/man/man1/jjs.1.gz jjs.1.gz /usr/lib/jvm/java-8-openjdk-amd64/jre/man/man1/jjs.1.gz\n",
            "update-alternatives 2019-05-31 16:10:50: link group jjs updated to point to /usr/lib/jvm/java-8-openjdk-amd64/jre/bin/jjs\n",
            "update-alternatives 2019-05-31 16:10:50: run with --install /usr/bin/pack200 pack200 /usr/lib/jvm/java-8-openjdk-amd64/jre/bin/pack200 1081 --slave /usr/share/man/man1/pack200.1.gz pack200.1.gz /usr/lib/jvm/java-8-openjdk-amd64/jre/man/man1/pack200.1.gz\n",
            "update-alternatives 2019-05-31 16:10:50: link group pack200 updated to point to /usr/lib/jvm/java-8-openjdk-amd64/jre/bin/pack200\n",
            "update-alternatives 2019-05-31 16:10:50: run with --install /usr/bin/rmiregistry rmiregistry /usr/lib/jvm/java-8-openjdk-amd64/jre/bin/rmiregistry 1081 --slave /usr/share/man/man1/rmiregistry.1.gz rmiregistry.1.gz /usr/lib/jvm/java-8-openjdk-amd64/jre/man/man1/rmiregistry.1.gz\n",
            "update-alternatives 2019-05-31 16:10:50: link group rmiregistry updated to point to /usr/lib/jvm/java-8-openjdk-amd64/jre/bin/rmiregistry\n",
            "update-alternatives 2019-05-31 16:10:50: run with --install /usr/bin/unpack200 unpack200 /usr/lib/jvm/java-8-openjdk-amd64/jre/bin/unpack200 1081 --slave /usr/share/man/man1/unpack200.1.gz unpack200.1.gz /usr/lib/jvm/java-8-openjdk-amd64/jre/man/man1/unpack200.1.gz\n",
            "update-alternatives 2019-05-31 16:10:50: link group unpack200 updated to point to /usr/lib/jvm/java-8-openjdk-amd64/jre/bin/unpack200\n",
            "update-alternatives 2019-05-31 16:10:50: run with --install /usr/bin/orbd orbd /usr/lib/jvm/java-8-openjdk-amd64/jre/bin/orbd 1081 --slave /usr/share/man/man1/orbd.1.gz orbd.1.gz /usr/lib/jvm/java-8-openjdk-amd64/jre/man/man1/orbd.1.gz\n",
            "update-alternatives 2019-05-31 16:10:50: link group orbd updated to point to /usr/lib/jvm/java-8-openjdk-amd64/jre/bin/orbd\n",
            "update-alternatives 2019-05-31 16:10:50: run with --install /usr/bin/servertool servertool /usr/lib/jvm/java-8-openjdk-amd64/jre/bin/servertool 1081 --slave /usr/share/man/man1/servertool.1.gz servertool.1.gz /usr/lib/jvm/java-8-openjdk-amd64/jre/man/man1/servertool.1.gz\n",
            "update-alternatives 2019-05-31 16:10:50: link group servertool updated to point to /usr/lib/jvm/java-8-openjdk-amd64/jre/bin/servertool\n",
            "update-alternatives 2019-05-31 16:10:50: run with --install /usr/bin/tnameserv tnameserv /usr/lib/jvm/java-8-openjdk-amd64/jre/bin/tnameserv 1081 --slave /usr/share/man/man1/tnameserv.1.gz tnameserv.1.gz /usr/lib/jvm/java-8-openjdk-amd64/jre/man/man1/tnameserv.1.gz\n",
            "update-alternatives 2019-05-31 16:10:50: link group tnameserv updated to point to /usr/lib/jvm/java-8-openjdk-amd64/jre/bin/tnameserv\n",
            "update-alternatives 2019-05-31 16:10:50: run with --install /usr/bin/jexec jexec /usr/lib/jvm/java-8-openjdk-amd64/jre/lib/jexec 1081 --slave /usr/share/binfmts/jar jexec-binfmt /usr/lib/jvm/java-8-openjdk-amd64/jre/lib/jar.binfmt\n",
            "update-alternatives 2019-05-31 16:10:50: link group jexec updated to point to /usr/lib/jvm/java-8-openjdk-amd64/jre/lib/jexec\n",
            "update-alternatives 2019-05-31 16:10:50: run with --install /usr/share/icons/default/index.theme x-cursor-theme /usr/share/icons/Adwaita/cursor.theme 90\n",
            "update-alternatives 2019-05-31 16:10:50: link group x-cursor-theme updated to point to /usr/share/icons/Adwaita/cursor.theme\n",
            "update-alternatives 2019-05-31 16:10:51: run with --install /usr/bin/idlj idlj /usr/lib/jvm/java-8-openjdk-amd64/bin/idlj 1081 --slave /usr/share/man/man1/idlj.1.gz idlj.1.gz /usr/lib/jvm/java-8-openjdk-amd64/man/man1/idlj.1.gz\n",
            "update-alternatives 2019-05-31 16:10:51: link group idlj updated to point to /usr/lib/jvm/java-8-openjdk-amd64/bin/idlj\n",
            "update-alternatives 2019-05-31 16:10:51: run with --install /usr/bin/jdeps jdeps /usr/lib/jvm/java-8-openjdk-amd64/bin/jdeps 1081 --slave /usr/share/man/man1/jdeps.1.gz jdeps.1.gz /usr/lib/jvm/java-8-openjdk-amd64/man/man1/jdeps.1.gz\n",
            "update-alternatives 2019-05-31 16:10:51: link group jdeps updated to point to /usr/lib/jvm/java-8-openjdk-amd64/bin/jdeps\n",
            "update-alternatives 2019-05-31 16:10:51: run with --install /usr/bin/wsimport wsimport /usr/lib/jvm/java-8-openjdk-amd64/bin/wsimport 1081 --slave /usr/share/man/man1/wsimport.1.gz wsimport.1.gz /usr/lib/jvm/java-8-openjdk-amd64/man/man1/wsimport.1.gz\n",
            "update-alternatives 2019-05-31 16:10:51: link group wsimport updated to point to /usr/lib/jvm/java-8-openjdk-amd64/bin/wsimport\n",
            "update-alternatives 2019-05-31 16:10:51: run with --install /usr/bin/jinfo jinfo /usr/lib/jvm/java-8-openjdk-amd64/bin/jinfo 1081 --slave /usr/share/man/man1/jinfo.1.gz jinfo.1.gz /usr/lib/jvm/java-8-openjdk-amd64/man/man1/jinfo.1.gz\n",
            "update-alternatives 2019-05-31 16:10:51: link group jinfo updated to point to /usr/lib/jvm/java-8-openjdk-amd64/bin/jinfo\n",
            "update-alternatives 2019-05-31 16:10:51: run with --install /usr/bin/jsadebugd jsadebugd /usr/lib/jvm/java-8-openjdk-amd64/bin/jsadebugd 1081 --slave /usr/share/man/man1/jsadebugd.1.gz jsadebugd.1.gz /usr/lib/jvm/java-8-openjdk-amd64/man/man1/jsadebugd.1.gz\n",
            "update-alternatives 2019-05-31 16:10:51: link group jsadebugd updated to point to /usr/lib/jvm/java-8-openjdk-amd64/bin/jsadebugd\n",
            "update-alternatives 2019-05-31 16:10:51: run with --install /usr/bin/native2ascii native2ascii /usr/lib/jvm/java-8-openjdk-amd64/bin/native2ascii 1081 --slave /usr/share/man/man1/native2ascii.1.gz native2ascii.1.gz /usr/lib/jvm/java-8-openjdk-amd64/man/man1/native2ascii.1.gz\n",
            "update-alternatives 2019-05-31 16:10:51: link group native2ascii updated to point to /usr/lib/jvm/java-8-openjdk-amd64/bin/native2ascii\n",
            "update-alternatives 2019-05-31 16:10:51: run with --install /usr/bin/jstat jstat /usr/lib/jvm/java-8-openjdk-amd64/bin/jstat 1081 --slave /usr/share/man/man1/jstat.1.gz jstat.1.gz /usr/lib/jvm/java-8-openjdk-amd64/man/man1/jstat.1.gz\n",
            "update-alternatives 2019-05-31 16:10:51: link group jstat updated to point to /usr/lib/jvm/java-8-openjdk-amd64/bin/jstat\n",
            "update-alternatives 2019-05-31 16:10:51: run with --install /usr/bin/javac javac /usr/lib/jvm/java-8-openjdk-amd64/bin/javac 1081 --slave /usr/share/man/man1/javac.1.gz javac.1.gz /usr/lib/jvm/java-8-openjdk-amd64/man/man1/javac.1.gz\n",
            "update-alternatives 2019-05-31 16:10:51: link group javac updated to point to /usr/lib/jvm/java-8-openjdk-amd64/bin/javac\n",
            "update-alternatives 2019-05-31 16:10:51: run with --install /usr/bin/javah javah /usr/lib/jvm/java-8-openjdk-amd64/bin/javah 1081 --slave /usr/share/man/man1/javah.1.gz javah.1.gz /usr/lib/jvm/java-8-openjdk-amd64/man/man1/javah.1.gz\n",
            "update-alternatives 2019-05-31 16:10:51: link group javah updated to point to /usr/lib/jvm/java-8-openjdk-amd64/bin/javah\n",
            "update-alternatives 2019-05-31 16:10:51: run with --install /usr/bin/jstack jstack /usr/lib/jvm/java-8-openjdk-amd64/bin/jstack 1081 --slave /usr/share/man/man1/jstack.1.gz jstack.1.gz /usr/lib/jvm/java-8-openjdk-amd64/man/man1/jstack.1.gz\n",
            "update-alternatives 2019-05-31 16:10:51: link group jstack updated to point to /usr/lib/jvm/java-8-openjdk-amd64/bin/jstack\n",
            "update-alternatives 2019-05-31 16:10:51: run with --install /usr/bin/jrunscript jrunscript /usr/lib/jvm/java-8-openjdk-amd64/bin/jrunscript 1081 --slave /usr/share/man/man1/jrunscript.1.gz jrunscript.1.gz /usr/lib/jvm/java-8-openjdk-amd64/man/man1/jrunscript.1.gz\n",
            "update-alternatives 2019-05-31 16:10:51: link group jrunscript updated to point to /usr/lib/jvm/java-8-openjdk-amd64/bin/jrunscript\n",
            "update-alternatives 2019-05-31 16:10:51: run with --install /usr/bin/javadoc javadoc /usr/lib/jvm/java-8-openjdk-amd64/bin/javadoc 1081 --slave /usr/share/man/man1/javadoc.1.gz javadoc.1.gz /usr/lib/jvm/java-8-openjdk-amd64/man/man1/javadoc.1.gz\n",
            "update-alternatives 2019-05-31 16:10:51: link group javadoc updated to point to /usr/lib/jvm/java-8-openjdk-amd64/bin/javadoc\n",
            "update-alternatives 2019-05-31 16:10:51: run with --install /usr/bin/jhat jhat /usr/lib/jvm/java-8-openjdk-amd64/bin/jhat 1081 --slave /usr/share/man/man1/jhat.1.gz jhat.1.gz /usr/lib/jvm/java-8-openjdk-amd64/man/man1/jhat.1.gz\n",
            "update-alternatives 2019-05-31 16:10:51: link group jhat updated to point to /usr/lib/jvm/java-8-openjdk-amd64/bin/jhat\n",
            "update-alternatives 2019-05-31 16:10:51: run with --install /usr/bin/javap javap /usr/lib/jvm/java-8-openjdk-amd64/bin/javap 1081 --slave /usr/share/man/man1/javap.1.gz javap.1.gz /usr/lib/jvm/java-8-openjdk-amd64/man/man1/javap.1.gz\n",
            "update-alternatives 2019-05-31 16:10:51: link group javap updated to point to /usr/lib/jvm/java-8-openjdk-amd64/bin/javap\n",
            "update-alternatives 2019-05-31 16:10:51: run with --install /usr/bin/jar jar /usr/lib/jvm/java-8-openjdk-amd64/bin/jar 1081 --slave /usr/share/man/man1/jar.1.gz jar.1.gz /usr/lib/jvm/java-8-openjdk-amd64/man/man1/jar.1.gz\n",
            "update-alternatives 2019-05-31 16:10:51: link group jar updated to point to /usr/lib/jvm/java-8-openjdk-amd64/bin/jar\n",
            "update-alternatives 2019-05-31 16:10:51: run with --install /usr/bin/xjc xjc /usr/lib/jvm/java-8-openjdk-amd64/bin/xjc 1081 --slave /usr/share/man/man1/xjc.1.gz xjc.1.gz /usr/lib/jvm/java-8-openjdk-amd64/man/man1/xjc.1.gz\n",
            "update-alternatives 2019-05-31 16:10:51: link group xjc updated to point to /usr/lib/jvm/java-8-openjdk-amd64/bin/xjc\n",
            "update-alternatives 2019-05-31 16:10:51: run with --install /usr/bin/schemagen schemagen /usr/lib/jvm/java-8-openjdk-amd64/bin/schemagen 1081 --slave /usr/share/man/man1/schemagen.1.gz schemagen.1.gz /usr/lib/jvm/java-8-openjdk-amd64/man/man1/schemagen.1.gz\n",
            "update-alternatives 2019-05-31 16:10:51: link group schemagen updated to point to /usr/lib/jvm/java-8-openjdk-amd64/bin/schemagen\n",
            "update-alternatives 2019-05-31 16:10:51: run with --install /usr/bin/jps jps /usr/lib/jvm/java-8-openjdk-amd64/bin/jps 1081 --slave /usr/share/man/man1/jps.1.gz jps.1.gz /usr/lib/jvm/java-8-openjdk-amd64/man/man1/jps.1.gz\n",
            "update-alternatives 2019-05-31 16:10:51: link group jps updated to point to /usr/lib/jvm/java-8-openjdk-amd64/bin/jps\n",
            "update-alternatives 2019-05-31 16:10:51: run with --install /usr/bin/extcheck extcheck /usr/lib/jvm/java-8-openjdk-amd64/bin/extcheck 1081 --slave /usr/share/man/man1/extcheck.1.gz extcheck.1.gz /usr/lib/jvm/java-8-openjdk-amd64/man/man1/extcheck.1.gz\n",
            "update-alternatives 2019-05-31 16:10:51: link group extcheck updated to point to /usr/lib/jvm/java-8-openjdk-amd64/bin/extcheck\n",
            "update-alternatives 2019-05-31 16:10:51: run with --install /usr/bin/rmic rmic /usr/lib/jvm/java-8-openjdk-amd64/bin/rmic 1081 --slave /usr/share/man/man1/rmic.1.gz rmic.1.gz /usr/lib/jvm/java-8-openjdk-amd64/man/man1/rmic.1.gz\n",
            "update-alternatives 2019-05-31 16:10:51: link group rmic updated to point to /usr/lib/jvm/java-8-openjdk-amd64/bin/rmic\n",
            "update-alternatives 2019-05-31 16:10:51: run with --install /usr/bin/jstatd jstatd /usr/lib/jvm/java-8-openjdk-amd64/bin/jstatd 1081 --slave /usr/share/man/man1/jstatd.1.gz jstatd.1.gz /usr/lib/jvm/java-8-openjdk-amd64/man/man1/jstatd.1.gz\n",
            "update-alternatives 2019-05-31 16:10:51: link group jstatd updated to point to /usr/lib/jvm/java-8-openjdk-amd64/bin/jstatd\n",
            "update-alternatives 2019-05-31 16:10:51: run with --install /usr/bin/jmap jmap /usr/lib/jvm/java-8-openjdk-amd64/bin/jmap 1081 --slave /usr/share/man/man1/jmap.1.gz jmap.1.gz /usr/lib/jvm/java-8-openjdk-amd64/man/man1/jmap.1.gz\n",
            "update-alternatives 2019-05-31 16:10:51: link group jmap updated to point to /usr/lib/jvm/java-8-openjdk-amd64/bin/jmap\n",
            "update-alternatives 2019-05-31 16:10:51: run with --install /usr/bin/jdb jdb /usr/lib/jvm/java-8-openjdk-amd64/bin/jdb 1081 --slave /usr/share/man/man1/jdb.1.gz jdb.1.gz /usr/lib/jvm/java-8-openjdk-amd64/man/man1/jdb.1.gz\n",
            "update-alternatives 2019-05-31 16:10:51: link group jdb updated to point to /usr/lib/jvm/java-8-openjdk-amd64/bin/jdb\n",
            "update-alternatives 2019-05-31 16:10:51: run with --install /usr/bin/serialver serialver /usr/lib/jvm/java-8-openjdk-amd64/bin/serialver 1081 --slave /usr/share/man/man1/serialver.1.gz serialver.1.gz /usr/lib/jvm/java-8-openjdk-amd64/man/man1/serialver.1.gz\n",
            "update-alternatives 2019-05-31 16:10:51: link group serialver updated to point to /usr/lib/jvm/java-8-openjdk-amd64/bin/serialver\n",
            "update-alternatives 2019-05-31 16:10:51: run with --install /usr/bin/wsgen wsgen /usr/lib/jvm/java-8-openjdk-amd64/bin/wsgen 1081 --slave /usr/share/man/man1/wsgen.1.gz wsgen.1.gz /usr/lib/jvm/java-8-openjdk-amd64/man/man1/wsgen.1.gz\n",
            "update-alternatives 2019-05-31 16:10:51: link group wsgen updated to point to /usr/lib/jvm/java-8-openjdk-amd64/bin/wsgen\n",
            "update-alternatives 2019-05-31 16:10:51: run with --install /usr/bin/jcmd jcmd /usr/lib/jvm/java-8-openjdk-amd64/bin/jcmd 1081 --slave /usr/share/man/man1/jcmd.1.gz jcmd.1.gz /usr/lib/jvm/java-8-openjdk-amd64/man/man1/jcmd.1.gz\n",
            "update-alternatives 2019-05-31 16:10:51: link group jcmd updated to point to /usr/lib/jvm/java-8-openjdk-amd64/bin/jcmd\n",
            "update-alternatives 2019-05-31 16:10:51: run with --install /usr/bin/jarsigner jarsigner /usr/lib/jvm/java-8-openjdk-amd64/bin/jarsigner 1081 --slave /usr/share/man/man1/jarsigner.1.gz jarsigner.1.gz /usr/lib/jvm/java-8-openjdk-amd64/man/man1/jarsigner.1.gz\n",
            "update-alternatives 2019-05-31 16:10:51: link group jarsigner updated to point to /usr/lib/jvm/java-8-openjdk-amd64/bin/jarsigner\n",
            "update-alternatives 2019-05-31 16:10:51: run with --install /usr/bin/rmid rmid /usr/lib/jvm/java-11-openjdk-amd64/bin/rmid 1111 --slave /usr/share/man/man1/rmid.1.gz rmid.1.gz /usr/lib/jvm/java-11-openjdk-amd64/man/man1/rmid.1.gz\n",
            "update-alternatives 2019-05-31 16:10:51: link group rmid updated to point to /usr/lib/jvm/java-11-openjdk-amd64/bin/rmid\n",
            "update-alternatives 2019-05-31 16:10:51: run with --install /usr/bin/java java /usr/lib/jvm/java-11-openjdk-amd64/bin/java 1111 --slave /usr/share/man/man1/java.1.gz java.1.gz /usr/lib/jvm/java-11-openjdk-amd64/man/man1/java.1.gz\n",
            "update-alternatives 2019-05-31 16:10:51: link group java updated to point to /usr/lib/jvm/java-11-openjdk-amd64/bin/java\n",
            "update-alternatives 2019-05-31 16:10:51: run with --install /usr/bin/keytool keytool /usr/lib/jvm/java-11-openjdk-amd64/bin/keytool 1111 --slave /usr/share/man/man1/keytool.1.gz keytool.1.gz /usr/lib/jvm/java-11-openjdk-amd64/man/man1/keytool.1.gz\n",
            "update-alternatives 2019-05-31 16:10:51: link group keytool updated to point to /usr/lib/jvm/java-11-openjdk-amd64/bin/keytool\n",
            "update-alternatives 2019-05-31 16:10:51: run with --install /usr/bin/jjs jjs /usr/lib/jvm/java-11-openjdk-amd64/bin/jjs 1111 --slave /usr/share/man/man1/jjs.1.gz jjs.1.gz /usr/lib/jvm/java-11-openjdk-amd64/man/man1/jjs.1.gz\n",
            "update-alternatives 2019-05-31 16:10:51: link group jjs updated to point to /usr/lib/jvm/java-11-openjdk-amd64/bin/jjs\n",
            "update-alternatives 2019-05-31 16:10:51: run with --install /usr/bin/pack200 pack200 /usr/lib/jvm/java-11-openjdk-amd64/bin/pack200 1111 --slave /usr/share/man/man1/pack200.1.gz pack200.1.gz /usr/lib/jvm/java-11-openjdk-amd64/man/man1/pack200.1.gz\n",
            "update-alternatives 2019-05-31 16:10:51: link group pack200 updated to point to /usr/lib/jvm/java-11-openjdk-amd64/bin/pack200\n",
            "update-alternatives 2019-05-31 16:10:51: run with --install /usr/bin/rmiregistry rmiregistry /usr/lib/jvm/java-11-openjdk-amd64/bin/rmiregistry 1111 --slave /usr/share/man/man1/rmiregistry.1.gz rmiregistry.1.gz /usr/lib/jvm/java-11-openjdk-amd64/man/man1/rmiregistry.1.gz\n",
            "update-alternatives 2019-05-31 16:10:51: link group rmiregistry updated to point to /usr/lib/jvm/java-11-openjdk-amd64/bin/rmiregistry\n",
            "update-alternatives 2019-05-31 16:10:51: run with --install /usr/bin/unpack200 unpack200 /usr/lib/jvm/java-11-openjdk-amd64/bin/unpack200 1111 --slave /usr/share/man/man1/unpack200.1.gz unpack200.1.gz /usr/lib/jvm/java-11-openjdk-amd64/man/man1/unpack200.1.gz\n",
            "update-alternatives 2019-05-31 16:10:51: link group unpack200 updated to point to /usr/lib/jvm/java-11-openjdk-amd64/bin/unpack200\n",
            "update-alternatives 2019-05-31 16:10:51: run with --install /usr/bin/jexec jexec /usr/lib/jvm/java-11-openjdk-amd64/lib/jexec 1111 --slave /usr/share/binfmts/jar jexec-binfmt /usr/lib/jvm/java-11-openjdk-amd64/lib/jar.binfmt\n",
            "update-alternatives 2019-05-31 16:10:51: link group jexec updated to point to /usr/lib/jvm/java-11-openjdk-amd64/lib/jexec\n"
          ],
          "name": "stdout"
        }
      ]
    },
    {
      "cell_type": "code",
      "metadata": {
        "id": "0DbeEhRgQ-mg",
        "colab_type": "code",
        "colab": {
          "base_uri": "https://localhost:8080/",
          "height": 1584
        },
        "outputId": "4b452e0c-d175-4cb6-decd-9da6e163a21c"
      },
      "source": [
        "# only displaying the content in the alternatives.log with the keyword link\n",
        "# with | operator you can add another command, such as grep to filter or search\n",
        "# the file or output\n",
        "! cat alternatives.log | grep link"
      ],
      "execution_count": 24,
      "outputs": [
        {
          "output_type": "stream",
          "text": [
            "update-alternatives 2019-05-15 14:06:36: link group awk updated to point to /usr/bin/mawk\n",
            "update-alternatives 2019-05-15 14:06:40: link group builtins.7.gz updated to point to /usr/share/man/man7/bash-builtins.7.gz\n",
            "update-alternatives 2019-05-15 14:06:40: link group rmt updated to point to /usr/sbin/rmt-tar\n",
            "update-alternatives 2019-05-15 14:06:40: link group pager updated to point to /bin/more\n",
            "update-alternatives 2019-05-15 14:06:41: link group w updated to point to /usr/bin/w.procps\n",
            "update-alternatives 2019-05-15 14:06:47: auto-repair link group awk\n",
            "update-alternatives 2019-05-15 14:06:48: link group builtins.7.gz fully removed\n",
            "update-alternatives 2019-05-15 14:06:53: auto-repair link group rmt\n",
            "update-alternatives 2019-05-15 14:07:03: auto-repair link group pager\n",
            "update-alternatives 2019-05-15 14:07:11: auto-repair link group w\n",
            "update-alternatives 2019-05-31 03:38:06: link group pinentry updated to point to /usr/bin/pinentry-curses\n",
            "update-alternatives 2019-05-31 03:47:17: link group lzma updated to point to /usr/bin/xz\n",
            "update-alternatives 2019-05-31 03:47:21: link group cpp updated to point to /usr/bin/cpp\n",
            "update-alternatives 2019-05-31 03:47:34: link group cc updated to point to /usr/bin/gcc\n",
            "update-alternatives 2019-05-31 03:47:34: link group c89 updated to point to /usr/bin/c89-gcc\n",
            "update-alternatives 2019-05-31 03:47:34: link group c99 updated to point to /usr/bin/c99-gcc\n",
            "update-alternatives 2019-05-31 03:47:35: link group c++ updated to point to /usr/bin/g++\n",
            "update-alternatives 2019-05-31 03:58:03: link group libcudnn updated to point to /usr/include/x86_64-linux-gnu/cudnn_v7.h\n",
            "update-alternatives 2019-05-31 03:58:03: status of link group /usr/include/cudnn.h set to manual\n",
            "update-alternatives 2019-05-31 16:07:07: link group pager updated to point to /bin/less\n",
            "update-alternatives 2019-05-31 16:07:07: link group rename updated to point to /usr/bin/file-rename\n",
            "update-alternatives 2019-05-31 16:07:08: link group write updated to point to /usr/bin/bsd-write\n",
            "update-alternatives 2019-05-31 16:07:08: link group from updated to point to /usr/bin/bsd-from\n",
            "update-alternatives 2019-05-31 16:07:10: link group f95 updated to point to /usr/bin/gfortran\n",
            "update-alternatives 2019-05-31 16:07:10: link group f77 updated to point to /usr/bin/gfortran\n",
            "update-alternatives 2019-05-31 16:07:10: link group libblas.so.3-x86_64-linux-gnu updated to point to /usr/lib/x86_64-linux-gnu/atlas/libblas.so.3\n",
            "update-alternatives 2019-05-31 16:07:10: link group liblapack.so.3-x86_64-linux-gnu updated to point to /usr/lib/x86_64-linux-gnu/atlas/liblapack.so.3\n",
            "update-alternatives 2019-05-31 16:07:11: link group libblas.so-x86_64-linux-gnu updated to point to /usr/lib/x86_64-linux-gnu/atlas/libblas.so\n",
            "update-alternatives 2019-05-31 16:07:11: link group liblapack.so-x86_64-linux-gnu updated to point to /usr/lib/x86_64-linux-gnu/atlas/liblapack.so\n",
            "update-alternatives 2019-05-31 16:07:23: link group hdf5.pc updated to point to /usr/lib/x86_64-linux-gnu/pkgconfig/hdf5-serial.pc\n",
            "update-alternatives 2019-05-31 16:07:23: link group rsh updated to point to /usr/bin/ssh\n",
            "update-alternatives 2019-05-31 16:07:23: link group rlogin updated to point to /usr/bin/slogin\n",
            "update-alternatives 2019-05-31 16:07:23: link group rcp updated to point to /usr/bin/scp\n",
            "update-alternatives 2019-05-31 16:10:20: link group unrar updated to point to /usr/bin/unrar-nonfree\n",
            "update-alternatives 2019-05-31 16:10:22: link group my.cnf updated to point to /etc/mysql/my.cnf.fallback\n",
            "update-alternatives 2019-05-31 16:10:24: link group libpsm_infinipath.so.1 updated to point to /usr/lib/libpsm1/libpsm_infinipath.so.1.16\n",
            "update-alternatives 2019-05-31 16:10:45: link group libblas.so.3-x86_64-linux-gnu updated to point to /usr/lib/x86_64-linux-gnu/openblas/libblas.so.3\n",
            "update-alternatives 2019-05-31 16:10:45: link group liblapack.so.3-x86_64-linux-gnu updated to point to /usr/lib/x86_64-linux-gnu/openblas/liblapack.so.3\n",
            "update-alternatives 2019-05-31 16:10:48: link group libblas.so-x86_64-linux-gnu updated to point to /usr/lib/x86_64-linux-gnu/openblas/libblas.so\n",
            "update-alternatives 2019-05-31 16:10:48: link group liblapack.so-x86_64-linux-gnu updated to point to /usr/lib/x86_64-linux-gnu/openblas/liblapack.so\n",
            "update-alternatives 2019-05-31 16:10:49: link group mpi updated to point to /usr/lib/x86_64-linux-gnu/openmpi/include\n",
            "update-alternatives 2019-05-31 16:10:49: link group mpirun updated to point to /usr/bin/mpirun.openmpi\n",
            "update-alternatives 2019-05-31 16:10:50: link group rmid updated to point to /usr/lib/jvm/java-8-openjdk-amd64/jre/bin/rmid\n",
            "update-alternatives 2019-05-31 16:10:50: link group clhsdb updated to point to /usr/lib/jvm/java-8-openjdk-amd64/jre/bin/clhsdb\n",
            "update-alternatives 2019-05-31 16:10:50: link group java updated to point to /usr/lib/jvm/java-8-openjdk-amd64/jre/bin/java\n",
            "update-alternatives 2019-05-31 16:10:50: link group keytool updated to point to /usr/lib/jvm/java-8-openjdk-amd64/jre/bin/keytool\n",
            "update-alternatives 2019-05-31 16:10:50: link group hsdb updated to point to /usr/lib/jvm/java-8-openjdk-amd64/jre/bin/hsdb\n",
            "update-alternatives 2019-05-31 16:10:50: link group jjs updated to point to /usr/lib/jvm/java-8-openjdk-amd64/jre/bin/jjs\n",
            "update-alternatives 2019-05-31 16:10:50: link group pack200 updated to point to /usr/lib/jvm/java-8-openjdk-amd64/jre/bin/pack200\n",
            "update-alternatives 2019-05-31 16:10:50: link group rmiregistry updated to point to /usr/lib/jvm/java-8-openjdk-amd64/jre/bin/rmiregistry\n",
            "update-alternatives 2019-05-31 16:10:50: link group unpack200 updated to point to /usr/lib/jvm/java-8-openjdk-amd64/jre/bin/unpack200\n",
            "update-alternatives 2019-05-31 16:10:50: link group orbd updated to point to /usr/lib/jvm/java-8-openjdk-amd64/jre/bin/orbd\n",
            "update-alternatives 2019-05-31 16:10:50: link group servertool updated to point to /usr/lib/jvm/java-8-openjdk-amd64/jre/bin/servertool\n",
            "update-alternatives 2019-05-31 16:10:50: link group tnameserv updated to point to /usr/lib/jvm/java-8-openjdk-amd64/jre/bin/tnameserv\n",
            "update-alternatives 2019-05-31 16:10:50: link group jexec updated to point to /usr/lib/jvm/java-8-openjdk-amd64/jre/lib/jexec\n",
            "update-alternatives 2019-05-31 16:10:50: link group x-cursor-theme updated to point to /usr/share/icons/Adwaita/cursor.theme\n",
            "update-alternatives 2019-05-31 16:10:51: link group idlj updated to point to /usr/lib/jvm/java-8-openjdk-amd64/bin/idlj\n",
            "update-alternatives 2019-05-31 16:10:51: link group jdeps updated to point to /usr/lib/jvm/java-8-openjdk-amd64/bin/jdeps\n",
            "update-alternatives 2019-05-31 16:10:51: link group wsimport updated to point to /usr/lib/jvm/java-8-openjdk-amd64/bin/wsimport\n",
            "update-alternatives 2019-05-31 16:10:51: link group jinfo updated to point to /usr/lib/jvm/java-8-openjdk-amd64/bin/jinfo\n",
            "update-alternatives 2019-05-31 16:10:51: link group jsadebugd updated to point to /usr/lib/jvm/java-8-openjdk-amd64/bin/jsadebugd\n",
            "update-alternatives 2019-05-31 16:10:51: link group native2ascii updated to point to /usr/lib/jvm/java-8-openjdk-amd64/bin/native2ascii\n",
            "update-alternatives 2019-05-31 16:10:51: link group jstat updated to point to /usr/lib/jvm/java-8-openjdk-amd64/bin/jstat\n",
            "update-alternatives 2019-05-31 16:10:51: link group javac updated to point to /usr/lib/jvm/java-8-openjdk-amd64/bin/javac\n",
            "update-alternatives 2019-05-31 16:10:51: link group javah updated to point to /usr/lib/jvm/java-8-openjdk-amd64/bin/javah\n",
            "update-alternatives 2019-05-31 16:10:51: link group jstack updated to point to /usr/lib/jvm/java-8-openjdk-amd64/bin/jstack\n",
            "update-alternatives 2019-05-31 16:10:51: link group jrunscript updated to point to /usr/lib/jvm/java-8-openjdk-amd64/bin/jrunscript\n",
            "update-alternatives 2019-05-31 16:10:51: link group javadoc updated to point to /usr/lib/jvm/java-8-openjdk-amd64/bin/javadoc\n",
            "update-alternatives 2019-05-31 16:10:51: link group jhat updated to point to /usr/lib/jvm/java-8-openjdk-amd64/bin/jhat\n",
            "update-alternatives 2019-05-31 16:10:51: link group javap updated to point to /usr/lib/jvm/java-8-openjdk-amd64/bin/javap\n",
            "update-alternatives 2019-05-31 16:10:51: link group jar updated to point to /usr/lib/jvm/java-8-openjdk-amd64/bin/jar\n",
            "update-alternatives 2019-05-31 16:10:51: link group xjc updated to point to /usr/lib/jvm/java-8-openjdk-amd64/bin/xjc\n",
            "update-alternatives 2019-05-31 16:10:51: link group schemagen updated to point to /usr/lib/jvm/java-8-openjdk-amd64/bin/schemagen\n",
            "update-alternatives 2019-05-31 16:10:51: link group jps updated to point to /usr/lib/jvm/java-8-openjdk-amd64/bin/jps\n",
            "update-alternatives 2019-05-31 16:10:51: link group extcheck updated to point to /usr/lib/jvm/java-8-openjdk-amd64/bin/extcheck\n",
            "update-alternatives 2019-05-31 16:10:51: link group rmic updated to point to /usr/lib/jvm/java-8-openjdk-amd64/bin/rmic\n",
            "update-alternatives 2019-05-31 16:10:51: link group jstatd updated to point to /usr/lib/jvm/java-8-openjdk-amd64/bin/jstatd\n",
            "update-alternatives 2019-05-31 16:10:51: link group jmap updated to point to /usr/lib/jvm/java-8-openjdk-amd64/bin/jmap\n",
            "update-alternatives 2019-05-31 16:10:51: link group jdb updated to point to /usr/lib/jvm/java-8-openjdk-amd64/bin/jdb\n",
            "update-alternatives 2019-05-31 16:10:51: link group serialver updated to point to /usr/lib/jvm/java-8-openjdk-amd64/bin/serialver\n",
            "update-alternatives 2019-05-31 16:10:51: link group wsgen updated to point to /usr/lib/jvm/java-8-openjdk-amd64/bin/wsgen\n",
            "update-alternatives 2019-05-31 16:10:51: link group jcmd updated to point to /usr/lib/jvm/java-8-openjdk-amd64/bin/jcmd\n",
            "update-alternatives 2019-05-31 16:10:51: link group jarsigner updated to point to /usr/lib/jvm/java-8-openjdk-amd64/bin/jarsigner\n",
            "update-alternatives 2019-05-31 16:10:51: link group rmid updated to point to /usr/lib/jvm/java-11-openjdk-amd64/bin/rmid\n",
            "update-alternatives 2019-05-31 16:10:51: link group java updated to point to /usr/lib/jvm/java-11-openjdk-amd64/bin/java\n",
            "update-alternatives 2019-05-31 16:10:51: link group keytool updated to point to /usr/lib/jvm/java-11-openjdk-amd64/bin/keytool\n",
            "update-alternatives 2019-05-31 16:10:51: link group jjs updated to point to /usr/lib/jvm/java-11-openjdk-amd64/bin/jjs\n",
            "update-alternatives 2019-05-31 16:10:51: link group pack200 updated to point to /usr/lib/jvm/java-11-openjdk-amd64/bin/pack200\n",
            "update-alternatives 2019-05-31 16:10:51: link group rmiregistry updated to point to /usr/lib/jvm/java-11-openjdk-amd64/bin/rmiregistry\n",
            "update-alternatives 2019-05-31 16:10:51: link group unpack200 updated to point to /usr/lib/jvm/java-11-openjdk-amd64/bin/unpack200\n",
            "update-alternatives 2019-05-31 16:10:51: link group jexec updated to point to /usr/lib/jvm/java-11-openjdk-amd64/lib/jexec\n"
          ],
          "name": "stdout"
        }
      ]
    },
    {
      "cell_type": "markdown",
      "metadata": {
        "id": "zJlQAgAhSBQk",
        "colab_type": "text"
      },
      "source": [
        "### Killing Processes"
      ]
    },
    {
      "cell_type": "code",
      "metadata": {
        "id": "fypu1zAPRqs3",
        "colab_type": "code",
        "colab": {
          "base_uri": "https://localhost:8080/",
          "height": 190
        },
        "outputId": "927dd6c1-2a1d-45f3-bb4e-d3f4d030766e"
      },
      "source": [
        "# showing the top of list processes that is running\n",
        "! ps -aux | head"
      ],
      "execution_count": 1,
      "outputs": [
        {
          "output_type": "stream",
          "text": [
            "USER         PID %CPU %MEM    VSZ   RSS TTY      STAT START   TIME COMMAND\n",
            "root           1  0.0  0.0  39196  6428 ?        Ss   15:30   0:00 /bin/bash -e /datalab/run.sh\n",
            "root           7  0.0  0.4 684688 56808 ?        Sl   15:30   0:03 /tools/node/bin/node /datalab/web/app.js\n",
            "root          22  0.1  0.7 403488 99496 ?        Sl   15:30   0:07 /usr/bin/python2 /usr/local/bin/jupyter-notebook --ip=\"172.28.0.2\" --port=9000 --FileContentsManager.root_dir=\"/\" --MappingKernelManager.root_dir=\"/content\"\n",
            "root         113  0.0  0.0  35888  4892 ?        Ss   15:31   0:00 tail -n +0 -F /root/.config/Google/DriveFS/Logs/drive_fs.txt\n",
            "root        1060 12.4  0.8 524432 116172 ?       Ssl  16:40   0:01 /usr/bin/python3 -m ipykernel_launcher -f /root/.local/share/jupyter/runtime/kernel-f4b8a00d-a374-407d-829a-fbef3dc599c8.json\n",
            "root        1076  0.0  0.0  39196  6548 ?        S    16:40   0:00 /bin/bash -c  ps -aux | head\n",
            "root        1077  0.0  0.0  59032  6336 ?        R    16:40   0:00 ps -aux\n",
            "root        1078  0.0  0.0  25144  1080 ?        R    16:40   0:00 head\n"
          ],
          "name": "stdout"
        }
      ]
    },
    {
      "cell_type": "code",
      "metadata": {
        "id": "GLU8aUlgTQOc",
        "colab_type": "code",
        "colab": {
          "base_uri": "https://localhost:8080/",
          "height": 122
        },
        "outputId": "d16cd2d6-47e2-4070-984f-62a859e64634"
      },
      "source": [
        "# showing the top 5 cpu intensive processes\n",
        "! ps -aux | sort -nrk 3,3 | head -n 5"
      ],
      "execution_count": 2,
      "outputs": [
        {
          "output_type": "stream",
          "text": [
            "root        1060  1.5  0.8 525464 116528 ?       Ssl  16:40   0:01 /usr/bin/python3 -m ipykernel_launcher -f /root/.local/share/jupyter/runtime/kernel-f4b8a00d-a374-407d-829a-fbef3dc599c8.json\n",
            "root          22  0.1  0.7 403488 99496 ?        Sl   15:30   0:07 /usr/bin/python2 /usr/local/bin/jupyter-notebook --ip=\"172.28.0.2\" --port=9000 --FileContentsManager.root_dir=\"/\" --MappingKernelManager.root_dir=\"/content\"\n",
            "USER         PID %CPU %MEM    VSZ   RSS TTY      STAT START   TIME COMMAND\n",
            "root           7  0.0  0.4 684688 56308 ?        Sl   15:30   0:03 /tools/node/bin/node /datalab/web/app.js\n",
            "root         113  0.0  0.0  35888  4892 ?        Ss   15:31   0:00 tail -n +0 -F /root/.config/Google/DriveFS/Logs/drive_fs.txt\n"
          ],
          "name": "stdout"
        }
      ]
    },
    {
      "cell_type": "code",
      "metadata": {
        "id": "g3x76ZRHUP0B",
        "colab_type": "code",
        "colab": {}
      },
      "source": [
        "# killing a process with the PID\n",
        "# going to kill the process that is using the most cpu\n",
        "# with is the ipykernel\n",
        "# this notebook will restart after that \n",
        "! kill 1060"
      ],
      "execution_count": 0,
      "outputs": []
    }
  ]
}